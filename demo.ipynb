{
 "cells": [
  {
   "cell_type": "code",
   "execution_count": null,
   "metadata": {},
   "outputs": [],
   "source": [
    "from pipeline import Pipeline\n",
    "import pandas as pd\n",
    "from glob import glob"
   ]
  },
  {
   "cell_type": "code",
   "execution_count": null,
   "metadata": {},
   "outputs": [],
   "source": [
    "filename = glob(r'C:\\Users\\bc200\\OneDrive\\桌面\\人工智慧與商業應用分析\\mid-project\\*.csv')\n",
    "filename[:12]"
   ]
  },
  {
   "cell_type": "code",
   "execution_count": null,
   "metadata": {},
   "outputs": [],
   "source": [
    "# # # 新聞或討論文章\n",
    "# text_df_name = [\n",
    "#                 'bda2023_mid_bbs_2019-2021.csv',\n",
    "#                 'bda2023_mid_bbs_2022-2023.csv',\n",
    "#                 'bda2023_mid_forum_2021.csv',\n",
    "#                 'bda2023_mid_forum_2022-2023.csv',\n",
    "#                 'bda2023_mid_news_2021.csv', \n",
    "#                 'bda2023_mid_news_2022-2023.csv'\n",
    "#                 ]#必須是list\n",
    "\n",
    "text_df_name = filename[:12]\n",
    "\n",
    "# 處理好的股價\n",
    "stock_df_name = '上市2019~2023.csv'\n",
    "# 可能有關係的詞彙\n",
    "voc_key = ['2330', '台積電', '外資', 'GG', '半導體', '張忠謀', '美股', '外資', '神山'] #必須是list\n",
    "# 股票\n",
    "stock_key = '2330 台積' # 目前寫死只能選一隻股票\n",
    "# 開始訓練與預測的月份\n",
    "start_time = '2021-01-01'\n",
    "end_time = '2022-01-01'\n",
    "# 時間移動窗格大小\n",
    "time_shift = 3 # 以月為單位\n",
    "# tfidf臨界值\n",
    "threshold = 40"
   ]
  },
  {
   "cell_type": "code",
   "execution_count": null,
   "metadata": {},
   "outputs": [],
   "source": [
    "model = Pipeline( \n",
    "    text_df_name = text_df_name,\n",
    "    stock_df_name = stock_df_name,\n",
    "    voc_key = voc_key,\n",
    "    stock_key = stock_key,\n",
    "    start_time = start_time,\n",
    "    end_time = end_time,\n",
    "    time_shifts = time_shift,\n",
    "    threshold= threshold\n",
    ")\n",
    "# 可以自行選擇要不要用GPU, default為False\n",
    "model.proceed(GPU = True)"
   ]
  }
 ],
 "metadata": {
  "kernelspec": {
   "display_name": "AIcourse",
   "language": "python",
   "name": "python3"
  },
  "language_info": {
   "codemirror_mode": {
    "name": "ipython",
    "version": 3
   },
   "file_extension": ".py",
   "mimetype": "text/x-python",
   "name": "python",
   "nbconvert_exporter": "python",
   "pygments_lexer": "ipython3",
   "version": "3.9.0"
  },
  "orig_nbformat": 4
 },
 "nbformat": 4,
 "nbformat_minor": 2
}
